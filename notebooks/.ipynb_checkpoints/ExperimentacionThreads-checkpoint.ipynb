{
 "cells": [
  {
   "cell_type": "markdown",
   "metadata": {},
   "source": [
    "# Experimentando con Threads\n",
    "## Implementación en C++ 💪💪\n",
    "Let's get this show on the road\n"
   ]
  },
  {
   "cell_type": "code",
   "execution_count": 40,
   "metadata": {},
   "outputs": [
    {
     "name": "stdout",
     "output_type": "stream",
     "text": [
      "mkdir: build: File exists\n",
      "g++ -std=c++11 -Wall -c src/HashMapConcurrente.cpp -o build/HashMapConcurrente.o -lpthread\n",
      "clang: \u001b[0;1;35mwarning: \u001b[0m-lpthread: 'linker' input unused [-Wunused-command-line-argument]\u001b[0m\n",
      "g++ -std=c++11 -Wall -c src/CargarArchivos.cpp -o build/CargarArchivos.o -lpthread\n",
      "clang: \u001b[0;1;35mwarning: \u001b[0m-lpthread: 'linker' input unused [-Wunused-command-line-argument]\u001b[0m\n",
      "g++ -std=c++11 -Wall -o build/ContarPalabras src/ContarPalabras.cpp build/HashMapConcurrente.o build/CargarArchivos.o -lpthread\n",
      "rm build/CargarArchivos.o build/HashMapConcurrente.o\n"
     ]
    }
   ],
   "source": [
    "!cd .. && git submodule init\n",
    "!cd .. && git submodule update\n",
    "!cd .. && mkdir build\n",
    "!cd ../build/ && rm -rf *\n",
    "!cd .. && make all\n",
    "!cp ../build/ContarPalabras ./ContarPalabras"
   ]
  },
  {
   "cell_type": "code",
   "execution_count": 41,
   "metadata": {},
   "outputs": [
    {
     "data": {
      "text/markdown": [
       "### Para ejecutar el programa"
      ],
      "text/plain": [
       "<IPython.core.display.Markdown object>"
      ]
     },
     "metadata": {},
     "output_type": "display_data"
    },
    {
     "data": {
      "text/markdown": [
       "usar: ```call([\"./ContarPalabras\", \"args\", \"to\", \"execute\"])```"
      ],
      "text/plain": [
       "<IPython.core.display.Markdown object>"
      ]
     },
     "metadata": {},
     "output_type": "display_data"
    },
    {
     "data": {
      "text/markdown": [
       "Ejemplo: ```call([\"./ContarPalabras\", \"1\", \"1\", \"data/test-1\"])```"
      ],
      "text/plain": [
       "<IPython.core.display.Markdown object>"
      ]
     },
     "metadata": {},
     "output_type": "display_data"
    },
    {
     "data": {
      "text/markdown": [
       "### ✨Además, tenemos unas hermosas tools para testeo"
      ],
      "text/plain": [
       "<IPython.core.display.Markdown object>"
      ]
     },
     "metadata": {},
     "output_type": "display_data"
    },
    {
     "data": {
      "text/markdown": [
       "Si hacemos iteraciones en algún test, podemos wrappear el range con ```logProgress```."
      ],
      "text/plain": [
       "<IPython.core.display.Markdown object>"
      ]
     },
     "metadata": {},
     "output_type": "display_data"
    },
    {
     "data": {
      "text/markdown": [
       "\n",
       "**Ejemplo:** ```for i in logProgress(range(0, algo.size), name=\"Lo que representan mis índices\")```"
      ],
      "text/plain": [
       "<IPython.core.display.Markdown object>"
      ]
     },
     "metadata": {},
     "output_type": "display_data"
    },
    {
     "data": {
      "text/markdown": [
       "Esto es útil nada más para cosas que toman tiempo cuantificable :P (básicamente, no instantáneo)"
      ],
      "text/plain": [
       "<IPython.core.display.Markdown object>"
      ]
     },
     "metadata": {},
     "output_type": "display_data"
    },
    {
     "data": {
      "text/markdown": [
       "\n",
       "Si no nos interesa el output de una celda en particular (porque, por ejemplo, la usamos para carga de datos en el notebook), podemos ejecutar ```clear_output()\n",
       "done()```"
      ],
      "text/plain": [
       "<IPython.core.display.Markdown object>"
      ]
     },
     "metadata": {},
     "output_type": "display_data"
    },
    {
     "data": {
      "text/markdown": [
       "al final de la misma."
      ],
      "text/plain": [
       "<IPython.core.display.Markdown object>"
      ]
     },
     "metadata": {},
     "output_type": "display_data"
    }
   ],
   "source": [
    "# Verifico la correcta instalación. Si no falla el import está OK\n",
    "import matplotlib.pyplot as plt\n",
    "import matplotlib.patches as mpatches\n",
    "from IPython.display import clear_output\n",
    "from subprocess import call, check_output\n",
    "from IPython.display import Markdown, display\n",
    "from datetime import datetime, timedelta\n",
    "import random\n",
    "import numpy as np\n",
    "\n",
    "def printmd(string):\n",
    "    display(Markdown(string))\n",
    "\n",
    "printmd(\"### Para ejecutar el programa\")\n",
    "printmd(\"usar: ```call([\\\"./ContarPalabras\\\", \\\"args\\\", \\\"to\\\", \\\"execute\\\"])```\")\n",
    "printmd(\"Ejemplo: ```call([\\\"./ContarPalabras\\\", \\\"1\\\", \\\"1\\\", \\\"data/test-1\\\"])```\")\n",
    "    \n",
    "printmd(\"### ✨Además, tenemos unas hermosas tools para testeo\")\n",
    "printmd(\"Si hacemos iteraciones en algún test, podemos wrappear el range con ```logProgress```.\")\n",
    "printmd(\"\\n**Ejemplo:** ```for i in logProgress(range(0, algo.size), name=\\\"Lo que representan mis índices\\\")```\")\n",
    "printmd(\"Esto es útil nada más para cosas que toman tiempo cuantificable :P (básicamente, no instantáneo)\")\n",
    "\n",
    "printmd(\"\\nSi no nos interesa el output de una celda en particular (porque, por ejemplo, la usamos para carga de datos en el notebook), podemos ejecutar ```clear_output()\\ndone()```\")\n",
    "printmd(\"al final de la misma.\")"
   ]
  },
  {
   "cell_type": "code",
   "execution_count": 42,
   "metadata": {},
   "outputs": [],
   "source": [
    "def logProgress(sequence, every=None, size=None, name='Items'):\n",
    "    from ipywidgets import IntProgress, HTML, VBox\n",
    "    from IPython.display import display\n",
    "\n",
    "    is_iterator = False\n",
    "    if size is None:\n",
    "        try:\n",
    "            size = len(sequence)\n",
    "        except TypeError:\n",
    "            is_iterator = True\n",
    "    if size is not None:\n",
    "        if every is None:\n",
    "            if size <= 200:\n",
    "                every = 1\n",
    "            else:\n",
    "                every = int(size / 200)     # every 0.5%\n",
    "    else:\n",
    "        assert every is not None, 'sequence is iterator, set every'\n",
    "\n",
    "    if is_iterator:\n",
    "        progress = IntProgress(min=0, max=1, value=1)\n",
    "        progress.bar_style = 'info'\n",
    "    else:\n",
    "        progress = IntProgress(min=0, max=size, value=0)\n",
    "    label = HTML()\n",
    "    box = VBox(children=[label, progress])\n",
    "    display(box)\n",
    "\n",
    "    index = 0\n",
    "    try:\n",
    "        for index, record in enumerate(sequence, 1):\n",
    "            if index == 1 or index % every == 0:\n",
    "                if is_iterator:\n",
    "                    label.value = '{name}: {index} / ?'.format(\n",
    "                        name=name,\n",
    "                        index=index\n",
    "                    )\n",
    "                else:\n",
    "                    progress.value = index\n",
    "                    label.value = u'{name}: {index} / {size}'.format(\n",
    "                        name=name,\n",
    "                        index=index,\n",
    "                        size=size\n",
    "                    )\n",
    "            yield record\n",
    "    except:\n",
    "        progress.bar_style = 'danger'\n",
    "        raise\n",
    "    else:\n",
    "        progress.bar_style = 'success'\n",
    "        progress.value = index\n",
    "        label.value = \"{name}: {index}\".format(\n",
    "            name=name,\n",
    "            index=str(index or '?')\n",
    "        )\n",
    "        \n",
    "def logSecondaryProgress(sequence, every=None, size=None, name='Items'):\n",
    "    from ipywidgets import IntProgress, HTML, VBox\n",
    "    from IPython.display import display\n",
    "\n",
    "    is_iterator = False\n",
    "    if size is None:\n",
    "        try:\n",
    "            size = len(sequence)\n",
    "        except TypeError:\n",
    "            is_iterator = True\n",
    "    if size is not None:\n",
    "        if every is None:\n",
    "            if size <= 200:\n",
    "                every = 1\n",
    "            else:\n",
    "                every = int(size / 200)     # every 0.5%\n",
    "    else:\n",
    "        assert every is not None, 'sequence is iterator, set every'\n",
    "\n",
    "#     if is_iterator:\n",
    "#         progress = IntProgress(min=0, max=1, value=1)\n",
    "#         progress.bar_style = 'info'\n",
    "#     else:\n",
    "#         progress = IntProgress(min=0, max=size, value=0)\n",
    "\n",
    "    index = 0\n",
    "    try:\n",
    "        for index, record in enumerate(sequence, 1):\n",
    "            if index == 1 or index % every == 0:\n",
    "                if is_iterator:\n",
    "                    writeDeletingLastLine('{name}: {index} / ?'.format(\n",
    "                        name=name,\n",
    "                        index=index\n",
    "                    ))\n",
    "                else:\n",
    "#                     progress.value = index\n",
    "                    writeDeletingLastLine(u'{name}: {index} / {size}'.format(\n",
    "                        name=name,\n",
    "                        index=index,\n",
    "                        size=size\n",
    "                    ))\n",
    "            yield record\n",
    "    except:\n",
    "#         progress.bar_style = 'danger'\n",
    "        raise\n",
    "    else:\n",
    "#         progress.bar_style = 'success'\n",
    "#         progress.value = index\n",
    "        writeDeletingLastLine(\"{name}: {index}\".format(\n",
    "            name=name,\n",
    "            index=str(index or '?')\n",
    "        ))\n",
    "        \n",
    "def done():\n",
    "    print(\"Done!\\n\\n✨\\n  ⊂_ヽ\\n 　 ＼＼ \\n　　 ＼( ͡° ͜ʖ ͡°)\\n　　　 >　⌒ヽ\\n　　　/ 　 へ＼\\n　　 /　　/　＼＼\\n　　 ﾚ　ノ　　 ヽ_つ\\n　　/　/\\n　 /　/|\\n　(　(ヽ\\n　|　|、＼\\n　| 丿 ＼ ⌒)\\n　| | 　　) /\\nノ )　　Lﾉ\\n(_／)\")"
   ]
  },
  {
   "cell_type": "code",
   "execution_count": 43,
   "metadata": {},
   "outputs": [],
   "source": [
    "# def logTimeForInstance(time, instanceSize):\n",
    "#     timeScale = \"\"\n",
    "#     if time / 1000 / 60 / 60 >= 1:\n",
    "#         timeScale = \"hs\"\n",
    "#         time = time / 1000 / 60 / 60\n",
    "#     elif time / 1000 / 60 >= 1:\n",
    "#         timeScale = \"m\"\n",
    "#         time = time / 1000 / 60\n",
    "#     elif time / 1000 >= 1:\n",
    "#         timeScale = \"s\"\n",
    "#         time = time / 1000\n",
    "#     else:\n",
    "#         timeScale = \"ms\"\n",
    "#         time = time\n",
    "#     # Los espacios al final es porque usar \\r hace que se pise la línea anterior,\n",
    "#     # de no poner los espacios a veces no se pisa todo y queda rancio el output\n",
    "#     print(\"Time taken for last instance (size = {}) was {} {}                        \".format(str(instanceSize), '%.2f' % time, timeScale), end=\"\\r\")\n",
    "\n",
    "def writeDeletingLastLine(text):\n",
    "    print(\"{}                                                                                                                                          \".format(text), end=\"\\r\")"
   ]
  },
  {
   "cell_type": "markdown",
   "metadata": {},
   "source": [
    "## Ejemplo de ejecución"
   ]
  },
  {
   "cell_type": "code",
   "execution_count": 44,
   "metadata": {},
   "outputs": [
    {
     "data": {
      "application/vnd.jupyter.widget-view+json": {
       "model_id": "e8df4a0fb026433fb4eec50c7c45909f",
       "version_major": 2,
       "version_minor": 0
      },
      "text/plain": [
       "VBox(children=(HTML(value=''), IntProgress(value=0, max=500)))"
      ]
     },
     "metadata": {},
     "output_type": "display_data"
    },
    {
     "data": {
      "text/markdown": [
       "## Resultado"
      ],
      "text/plain": [
       "<IPython.core.display.Markdown object>"
      ]
     },
     "metadata": {},
     "output_type": "display_data"
    },
    {
     "data": {
      "text/markdown": [
       "Se cargó en promedio en **0.016** nanosegundos."
      ],
      "text/plain": [
       "<IPython.core.display.Markdown object>"
      ]
     },
     "metadata": {},
     "output_type": "display_data"
    },
    {
     "data": {
      "text/markdown": [
       "Se obtuvo el máximo en promedio en **49.46** nanosegundos."
      ],
      "text/plain": [
       "<IPython.core.display.Markdown object>"
      ]
     },
     "metadata": {},
     "output_type": "display_data"
    },
    {
     "data": {
      "text/markdown": [
       "Con la entrada propuesta, la palabra con más cantidad de apariciones es **estegosaurio 2**."
      ],
      "text/plain": [
       "<IPython.core.display.Markdown object>"
      ]
     },
     "metadata": {},
     "output_type": "display_data"
    }
   ],
   "source": [
    "from decimal import *\n",
    "\n",
    "threadsCarga = 1\n",
    "threadsMaximo = 1\n",
    "cantEjecuciones = 500\n",
    "\n",
    "timeTakenCarga = 0\n",
    "timeTakenMax = 0\n",
    "solution = \"\"\n",
    "\n",
    "for i in logProgress(range(0, cantEjecuciones), name=\"Ejecutando por vez\"):\n",
    "    result = check_output([\"./ContarPalabras\", str(threadsCarga), str(threadsMaximo), \"data/test-1\"]).decode(\"utf-8\").split(\"\\n\")\n",
    "    timeTakenCarga += Decimal(result[0])\n",
    "    timeTakenMax += Decimal(result[1])\n",
    "    if solution == \"\":\n",
    "        solution = result[2]\n",
    "    elif solution != \"\" and solution != result[2]:\n",
    "        printmd(\"Houston, tenemos un problema. `{}` es distinto de `{}`\".format(solution, result[2]))\n",
    "        break\n",
    "\n",
    "timeTakenCarga /= cantEjecuciones\n",
    "timeTakenMax /= cantEjecuciones\n",
    "\n",
    "printmd(\"## Resultado\")\n",
    "printmd(\"Se cargó en promedio en **{}** milisegundos.\".format(timeTakenCarga))\n",
    "printmd(\"Se obtuvo el máximo en promedio en **{}** microsegundos.\".format(timeTakenMax))\n",
    "printmd(\"Con la entrada propuesta, la palabra con más cantidad de apariciones es **{}**.\".format(solution))"
   ]
  },
  {
   "cell_type": "markdown",
   "metadata": {},
   "source": [
    "## Análisis de cantidad de threads - carga"
   ]
  },
  {
   "cell_type": "code",
   "execution_count": 48,
   "metadata": {},
   "outputs": [
    {
     "name": "stdout",
     "output_type": "stream",
     "text": [
      "Done!\n",
      "\n",
      "✨\n",
      "  ⊂_ヽ\n",
      " 　 ＼＼ \n",
      "　　 ＼( ͡° ͜ʖ ͡°)\n",
      "　　　 >　⌒ヽ\n",
      "　　　/ 　 へ＼\n",
      "　　 /　　/　＼＼\n",
      "　　 ﾚ　ノ　　 ヽ_つ\n",
      "　　/　/\n",
      "　 /　/|\n",
      "　(　(ヽ\n",
      "　|　|、＼\n",
      "　| 丿 ＼ ⌒)\n",
      "　| | 　　) /\n",
      "ノ )　　Lﾉ\n",
      "(_／)\n"
     ]
    }
   ],
   "source": [
    "from decimal import *\n",
    "\n",
    "maxThreadsCarga = 30\n",
    "threadsMaximo = 1\n",
    "cantEjecuciones = 25\n",
    "\n",
    "soluciones = []\n",
    "tiemposCarga = []\n",
    "tiemposIndividualesCarga = [[] for i in range(0, maxThreadsCarga)]\n",
    "tiemposMax = []\n",
    "tiemposIndividualesMax = [[] for i in range(0, maxThreadsCarga)]\n",
    "cantThreadsCarga = []\n",
    "\n",
    "for threadsCarga in logProgress(range(1, maxThreadsCarga + 1), name=\"Ejecutando para cantidad de threads de carga\"):\n",
    "    timeTakenCarga = 0\n",
    "    timeTakenMax = 0\n",
    "    solution = \"\"\n",
    "    for i in logSecondaryProgress(range(0, cantEjecuciones), name=\"Ejecutando por vez\"):\n",
    "        result = check_output([\"./ContarPalabras\", str(threadsCarga), str(threadsCarga), \"data/large\", \"data/large\", \"data/large\", \"data/large\", \"data/large\", \"data/large\", \"data/large\", \"data/large\", \"data/large\", \"data/large\", \"data/large\", \"data/large\", \"data/large\", \"data/large\", \"data/large\", \"data/large\", \"data/large\", \"data/large\", \"data/large\", \"data/large\", \"data/large\", \"data/large\", \"data/large\", \"data/large\", \"data/large\", \"data/large\", \"data/large\", \"data/large\", \"data/large\", \"data/large\"]).decode(\"utf-8\").split(\"\\n\")\n",
    "        timeTakenCarga += int(result[0])\n",
    "        tiemposIndividualesCarga[threadsCarga - 1] += [int(result[0])]\n",
    "        timeTakenMax += int(result[1])\n",
    "        tiemposIndividualesMax[threadsCarga - 1] += [int(result[1])]\n",
    "        if timeTakenCarga < 0:\n",
    "            printmd(\"Se rompió todo cuando sumé {} (pasado a decimal es {})\".format(result[0], str(Decimal(result[0]))))\n",
    "        if solution == \"\":\n",
    "            solution = result[2]\n",
    "        elif solution != \"\" and solution != result[2]:\n",
    "#             printmd(\"Houston, tenemos un problema. `{}` es distinto de `{}`\".format(solution, result[2]))\n",
    "            break\n",
    "\n",
    "    soluciones += [solution]\n",
    "    tiemposCarga += [timeTakenCarga / cantEjecuciones]\n",
    "    tiemposMax += [timeTakenMax / cantEjecuciones]\n",
    "    cantThreadsCarga += [threadsCarga]\n",
    "\n",
    "clear_output()\n",
    "done()"
   ]
  },
  {
   "cell_type": "code",
   "execution_count": 91,
   "metadata": {},
   "outputs": [
    {
     "data": {
      "image/png": "[encoded data removed]",
      "text/plain": [
       "<Figure size 432x288 with 1 Axes>"
      ]
     },
     "metadata": {
      "needs_background": "light"
     },
     "output_type": "display_data"
    }
   ],
   "source": [
    "import numpy as np\n",
    "\n",
    "## Plot para complejidad de FB\n",
    "fig = plt.figure()\n",
    "# plt.plot(xs, realYs, 'forestgreen')\n",
    "\n",
    "maxesCarga = [np.max(tiemposIndividualesCarga[i]) - tiemposCarga[i] for i in range(0, len(tiemposIndividualesCarga))]\n",
    "minsCarga = [tiemposCarga[i] - np.min(tiemposIndividualesCarga[i]) for i in range(0, len(tiemposIndividualesCarga))]\n",
    "\n",
    "tMax = [np.average(x) for x in tiemposIndividualesMax]\n",
    "maxesMax = [np.max(tiemposIndividualesMax[i]) - tMax[i] for i in range(0, len(tiemposIndividualesMax))]\n",
    "minsMax = [tMax[i] - np.min(tiemposIndividualesMax[i]) for i in range(0, len(tiemposIndividualesMax))]\n",
    "\n",
    "# maxMin = [[np.max(tiemposIndividualesCarga[i]) - tiemposCarga[i], np.min(tiemposIndividualesCarga[i])  - tiemposCarga[i]] for i in range(0, len(tiemposIndividualesCarga))]\n",
    "plt.scatter(cantThreadsCarga, tiemposCarga, c='dodgerblue')\n",
    "plt.errorbar(cantThreadsCarga, tiemposCarga, yerr=[maxesCarga, minsCarga], label='both limits (default)', color='dodgerblue', linestyle='None')\n",
    "# plt.scatter(cantThreadsCarga, tMax, c='orange')\n",
    "# plt.errorbar(cantThreadsCarga, tMax, yerr=[maxesMax, minsMax], label='both limits (default)', color='orange', linestyle='None')\n",
    "\n",
    "plt.xlabel(\"Cantidad de threads\", fontsize=16)\n",
    "plt.ylabel(\"Tiempo de ejecución (ms)\", fontsize=16)\n",
    "plt.title(\"Tiempos de ejecución para variaciones\\nde threads en carga\", fontsize=18)\n",
    "\n",
    "# real_patch = mpatches.Patch(color='dodgerblue', label='Tiempos de carga')\n",
    "# predict_patch = mpatches.Patch(color='orange', label='Tiempos de máximo')\n",
    "# real_patch = mpatches.Patch(color='forestgreen', label='Real')\n",
    "\n",
    "plt.grid()\n",
    "\n",
    "# plt.legend(handles=[real_patch, predict_patch], loc=\"upper right\")\n",
    "plt.show()"
   ]
  }
 ],
 "metadata": {
  "kernelspec": {
   "display_name": "Python 3",
   "language": "python",
   "name": "python3"
  },
  "language_info": {
   "codemirror_mode": {
    "name": "ipython",
    "version": 3
   },
   "file_extension": ".py",
   "mimetype": "text/x-python",
   "name": "python",
   "nbconvert_exporter": "python",
   "pygments_lexer": "ipython3",
   "version": "3.7.6"
  }
 },
 "nbformat": 4,
 "nbformat_minor": 2
}
