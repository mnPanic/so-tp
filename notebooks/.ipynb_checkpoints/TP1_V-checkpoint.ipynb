{
 "cells": [
  {
   "cell_type": "markdown",
   "metadata": {},
   "source": [
    "# Experimentando con JamboTubos\n",
    "## Implementación en C++ 💪💪\n",
    "Let's get this show on the road\n"
   ]
  },
  {
   "cell_type": "markdown",
   "metadata": {},
   "source": [
    "Definir los path al ejecutable de python 3.6 y sus librerías,\n",
    "de acuerdo al virtual env que estén corriendo."
   ]
  },
  {
   "cell_type": "code",
   "execution_count": 2,
   "metadata": {},
   "outputs": [
    {
     "name": "stdout",
     "output_type": "stream",
     "text": [
      "mkdir: build: File exists\n",
      "-- The C compiler identification is AppleClang 11.0.3.11030032\n",
      "-- The CXX compiler identification is AppleClang 11.0.3.11030032\n",
      "-- Check for working C compiler: /Applications/Xcode.app/Contents/Developer/Toolchains/XcodeDefault.xctoolchain/usr/bin/cc\n",
      "-- Check for working C compiler: /Applications/Xcode.app/Contents/Developer/Toolchains/XcodeDefault.xctoolchain/usr/bin/cc - works\n",
      "-- Detecting C compiler ABI info\n",
      "-- Detecting C compiler ABI info - done\n",
      "-- Detecting C compile features\n",
      "-- Detecting C compile features - done\n",
      "-- Check for working CXX compiler: /Applications/Xcode.app/Contents/Developer/Toolchains/XcodeDefault.xctoolchain/usr/bin/c++\n",
      "-- Check for working CXX compiler: /Applications/Xcode.app/Contents/Developer/Toolchains/XcodeDefault.xctoolchain/usr/bin/c++ - works\n",
      "-- Detecting CXX compiler ABI info\n",
      "-- Detecting CXX compiler ABI info - done\n",
      "-- Detecting CXX compile features\n",
      "-- Detecting CXX compile features - done\n",
      "Release mode\n",
      "CMAKE_INSTALL_PREFIX=/usr/local\n",
      "-- Configuring done\n",
      "-- Generating done\n",
      "-- Build files have been written to: /Users/vpomsztein/Documents/PrivateRepositories/Algo3-TP1/entregable/build\n",
      "\u001b[35m\u001b[1mScanning dependencies of target JamboTubos\u001b[0m\n",
      "[ 25%] \u001b[32mBuilding CXX object CMakeFiles/JamboTubos.dir/src/main.cpp.o\u001b[0m\n",
      "[ 50%] \u001b[32mBuilding CXX object CMakeFiles/JamboTubos.dir/src/JamboTubo.cpp.o\u001b[0m\n",
      "[ 75%] \u001b[32mBuilding CXX object CMakeFiles/JamboTubos.dir/src/Producto.cpp.o\u001b[0m\n",
      "[100%] \u001b[32m\u001b[1mLinking CXX executable JamboTubos\u001b[0m\n",
      "[100%] Built target JamboTubos\n"
     ]
    }
   ],
   "source": [
    "!cd .. && git submodule init\n",
    "!cd .. && git submodule update\n",
    "!cd .. && mkdir build\n",
    "!cd ../build/ && rm -rf *\n",
    "!cd ../build && cmake \\\n",
    "  -DCMAKE_BUILD_TYPE=Release ..\n",
    "!cd ../build && make\n",
    "!cp ../build/JamboTubos ./JamboTubos"
   ]
  },
  {
   "cell_type": "code",
   "execution_count": 110,
   "metadata": {},
   "outputs": [
    {
     "data": {
      "text/markdown": [
       "### Para ejecutar el programa"
      ],
      "text/plain": [
       "<IPython.core.display.Markdown object>"
      ]
     },
     "metadata": {},
     "output_type": "display_data"
    },
    {
     "data": {
      "text/markdown": [
       "usar: ```call([\"./JamboTubos\", \"args\", \"to\", \"execute\"])```"
      ],
      "text/plain": [
       "<IPython.core.display.Markdown object>"
      ]
     },
     "metadata": {},
     "output_type": "display_data"
    },
    {
     "data": {
      "text/markdown": [
       "Ejemplo: ```call([\"./JamboTubos\", \"FB\", \"<\", \"inputEjemplo.txt\"])```"
      ],
      "text/plain": [
       "<IPython.core.display.Markdown object>"
      ]
     },
     "metadata": {},
     "output_type": "display_data"
    },
    {
     "data": {
      "text/markdown": [
       "### ✨Además, tenemos unas hermosas tools para testeo"
      ],
      "text/plain": [
       "<IPython.core.display.Markdown object>"
      ]
     },
     "metadata": {},
     "output_type": "display_data"
    },
    {
     "data": {
      "text/markdown": [
       "Si hacemos iteraciones en algún test, podemos wrappear el range con ```logProgress```."
      ],
      "text/plain": [
       "<IPython.core.display.Markdown object>"
      ]
     },
     "metadata": {},
     "output_type": "display_data"
    },
    {
     "data": {
      "text/markdown": [
       "\n",
       "**Ejemplo:** ```for i in logProgress(range(0, algo.size), name=\"Lo que representan mis índices\")```"
      ],
      "text/plain": [
       "<IPython.core.display.Markdown object>"
      ]
     },
     "metadata": {},
     "output_type": "display_data"
    },
    {
     "data": {
      "text/markdown": [
       "Esto es útil nada más para cosas que toman tiempo cuantificable :P (básicamente, no instantáneo)"
      ],
      "text/plain": [
       "<IPython.core.display.Markdown object>"
      ]
     },
     "metadata": {},
     "output_type": "display_data"
    },
    {
     "data": {
      "text/markdown": [
       "\n",
       "Si no nos interesa el output de una celda en particular (porque, por ejemplo, la usamos para carga de datos en el notebook), podemos ejecutar ```clear_output()\n",
       "done()```"
      ],
      "text/plain": [
       "<IPython.core.display.Markdown object>"
      ]
     },
     "metadata": {},
     "output_type": "display_data"
    },
    {
     "data": {
      "text/markdown": [
       "al final de la misma."
      ],
      "text/plain": [
       "<IPython.core.display.Markdown object>"
      ]
     },
     "metadata": {},
     "output_type": "display_data"
    }
   ],
   "source": [
    "# Verifico la correcta instalación. Si no falla el import está OK\n",
    "import matplotlib.pyplot as plt\n",
    "import matplotlib.patches as mpatches\n",
    "from IPython.display import clear_output\n",
    "from subprocess import call, check_output\n",
    "from IPython.display import Markdown, display\n",
    "from datetime import datetime, timedelta\n",
    "import random\n",
    "\n",
    "def printmd(string):\n",
    "    display(Markdown(string))\n",
    "\n",
    "printmd(\"### Para ejecutar el programa\")\n",
    "printmd(\"usar: ```call([\\\"./JamboTubos\\\", \\\"args\\\", \\\"to\\\", \\\"execute\\\"])```\")\n",
    "printmd(\"Ejemplo: ```call([\\\"./JamboTubos\\\", \\\"FB\\\", \\\"<\\\", \\\"inputEjemplo.txt\\\"])```\")\n",
    "    \n",
    "printmd(\"### ✨Además, tenemos unas hermosas tools para testeo\")\n",
    "printmd(\"Si hacemos iteraciones en algún test, podemos wrappear el range con ```logProgress```.\")\n",
    "printmd(\"\\n**Ejemplo:** ```for i in logProgress(range(0, algo.size), name=\\\"Lo que representan mis índices\\\")```\")\n",
    "printmd(\"Esto es útil nada más para cosas que toman tiempo cuantificable :P (básicamente, no instantáneo)\")\n",
    "\n",
    "printmd(\"\\nSi no nos interesa el output de una celda en particular (porque, por ejemplo, la usamos para carga de datos en el notebook), podemos ejecutar ```clear_output()\\ndone()```\")\n",
    "printmd(\"al final de la misma.\")"
   ]
  },
  {
   "cell_type": "code",
   "execution_count": 4,
   "metadata": {},
   "outputs": [],
   "source": [
    "def logProgress(sequence, every=None, size=None, name='Items'):\n",
    "    from ipywidgets import IntProgress, HTML, VBox\n",
    "    from IPython.display import display\n",
    "\n",
    "    is_iterator = False\n",
    "    if size is None:\n",
    "        try:\n",
    "            size = len(sequence)\n",
    "        except TypeError:\n",
    "            is_iterator = True\n",
    "    if size is not None:\n",
    "        if every is None:\n",
    "            if size <= 200:\n",
    "                every = 1\n",
    "            else:\n",
    "                every = int(size / 200)     # every 0.5%\n",
    "    else:\n",
    "        assert every is not None, 'sequence is iterator, set every'\n",
    "\n",
    "    if is_iterator:\n",
    "        progress = IntProgress(min=0, max=1, value=1)\n",
    "        progress.bar_style = 'info'\n",
    "    else:\n",
    "        progress = IntProgress(min=0, max=size, value=0)\n",
    "    label = HTML()\n",
    "    box = VBox(children=[label, progress])\n",
    "    display(box)\n",
    "\n",
    "    index = 0\n",
    "    try:\n",
    "        for index, record in enumerate(sequence, 1):\n",
    "            if index == 1 or index % every == 0:\n",
    "                if is_iterator:\n",
    "                    label.value = '{name}: {index} / ?'.format(\n",
    "                        name=name,\n",
    "                        index=index\n",
    "                    )\n",
    "                else:\n",
    "                    progress.value = index\n",
    "                    label.value = u'{name}: {index} / {size}'.format(\n",
    "                        name=name,\n",
    "                        index=index,\n",
    "                        size=size\n",
    "                    )\n",
    "            yield record\n",
    "    except:\n",
    "        progress.bar_style = 'danger'\n",
    "        raise\n",
    "    else:\n",
    "        progress.bar_style = 'success'\n",
    "        progress.value = index\n",
    "        label.value = \"{name}: {index}\".format(\n",
    "            name=name,\n",
    "            index=str(index or '?')\n",
    "        )\n",
    "        \n",
    "def done():\n",
    "    print(\"Done!\\n\\n✨\\n  ⊂_ヽ\\n 　 ＼＼ \\n　　 ＼( ͡° ͜ʖ ͡°)\\n　　　 >　⌒ヽ\\n　　　/ 　 へ＼\\n　　 /　　/　＼＼\\n　　 ﾚ　ノ　　 ヽ_つ\\n　　/　/\\n　 /　/|\\n　(　(ヽ\\n　|　|、＼\\n　| 丿 ＼ ⌒)\\n　| | 　　) /\\nノ )　　Lﾉ\\n(_／)\")"
   ]
  },
  {
   "cell_type": "code",
   "execution_count": 5,
   "metadata": {},
   "outputs": [],
   "source": [
    "def logTimeForInstance(time, instanceSize):\n",
    "    timeScale = \"\"\n",
    "    if time / 1000 / 60 / 60 >= 1:\n",
    "        timeScale = \"hs\"\n",
    "        time = time / 1000 / 60 / 60\n",
    "    elif time / 1000 / 60 >= 1:\n",
    "        timeScale = \"m\"\n",
    "        time = time / 1000 / 60\n",
    "    elif time / 1000 >= 1:\n",
    "        timeScale = \"s\"\n",
    "        time = time / 1000\n",
    "    else:\n",
    "        timeScale = \"ms\"\n",
    "        time = time\n",
    "    # Los espacios al final es porque usar \\r hace que se pise la línea anterior,\n",
    "    # de no poner los espacios a veces no se pisa todo y queda rancio el output\n",
    "    print(\"Time taken for last instance (size = {}) was {} {}                        \".format(str(instanceSize), '%.2f' % time, timeScale), end=\"\\r\")"
   ]
  },
  {
   "cell_type": "markdown",
   "metadata": {},
   "source": [
    "## Carga de Datos (ejemplo)"
   ]
  },
  {
   "cell_type": "code",
   "execution_count": 307,
   "metadata": {},
   "outputs": [
    {
     "data": {
      "text/markdown": [
       "## Resultado"
      ],
      "text/plain": [
       "<IPython.core.display.Markdown object>"
      ]
     },
     "metadata": {},
     "output_type": "display_data"
    },
    {
     "data": {
      "text/markdown": [
       "La ejecución finalizó luego de **0.030911** segundos."
      ],
      "text/plain": [
       "<IPython.core.display.Markdown object>"
      ]
     },
     "metadata": {},
     "output_type": "display_data"
    },
    {
     "data": {
      "text/markdown": [
       "Con la entrada propuesta, se pueden meter como máximo **3** elementos en el JamboTubo."
      ],
      "text/plain": [
       "<IPython.core.display.Markdown object>"
      ]
     },
     "metadata": {},
     "output_type": "display_data"
    }
   ],
   "source": [
    "impl = \"FB\"\n",
    "jamboSolution = check_output([\"./JamboTubos\", impl, \"examples/ejemploCatedra.txt\"]).decode(\"utf-8\").split(\"\\n\")\n",
    "timeTaken = float(jamboSolution[0])\n",
    "solution = int(jamboSolution[1])\n",
    "\n",
    "printmd(\"## Resultado\")\n",
    "printmd(\"La ejecución finalizó luego de **{}** segundos.\".format(timeTaken))\n",
    "printmd(\"Con la entrada propuesta, se pueden meter como máximo **{}** elementos en el JamboTubo.\".format(solution))"
   ]
  },
  {
   "cell_type": "markdown",
   "metadata": {},
   "source": [
    "## Análisis de complejidad - FB"
   ]
  },
  {
   "cell_type": "code",
   "execution_count": 107,
   "metadata": {},
   "outputs": [
    {
     "name": "stdout",
     "output_type": "stream",
     "text": [
      "Done!\n",
      "\n",
      "✨\n",
      "  ⊂_ヽ\n",
      " 　 ＼＼ \n",
      "　　 ＼( ͡° ͜ʖ ͡°)\n",
      "　　　 >　⌒ヽ\n",
      "　　　/ 　 へ＼\n",
      "　　 /　　/　＼＼\n",
      "　　 ﾚ　ノ　　 ヽ_つ\n",
      "　　/　/\n",
      "　 /　/|\n",
      "　(　(ヽ\n",
      "　|　|、＼\n",
      "　| 丿 ＼ ⌒)\n",
      "　| | 　　) /\n",
      "ノ )　　Lﾉ\n",
      "(_／)\n"
     ]
    }
   ],
   "source": [
    "impl = \"FB\"\n",
    "caso = \"examples/ejemploLargoInnecesariamente.txt\"\n",
    "startSize = 1\n",
    "endSize = 20\n",
    "reps = 10\n",
    "soluciones = []\n",
    "tiempos = []\n",
    "ns = []\n",
    "\n",
    "for currSize in logProgress(range(startSize, endSize + 1), name=\"Ejecutando {} para instancia de tamaño\".format(impl)):\n",
    "    sol = 0\n",
    "    time = 0\n",
    "    for j in range(0, reps):\n",
    "        jamboSolution = check_output([\"./JamboTubos\", impl, caso, str(currSize)]).decode(\"utf-8\").split(\"\\n\")\n",
    "        time += float(jamboSolution[0])\n",
    "        sol += int(jamboSolution[1])\n",
    "    soluciones += [sol / reps]\n",
    "    tiempos += [time / reps]\n",
    "    ns += [currSize]\n",
    "    \n",
    "    logTimeForInstance(time, currSize)\n",
    "\n",
    "clear_output()\n",
    "done()"
   ]
  },
  {
   "cell_type": "code",
   "execution_count": 108,
   "metadata": {},
   "outputs": [
    {
     "data": {
      "image/png": "[encoded data removed]",
      "text/plain": [
       "<Figure size 432x288 with 1 Axes>"
      ]
     },
     "metadata": {
      "needs_background": "light"
     },
     "output_type": "display_data"
    }
   ],
   "source": [
    "## Plot para complejidad de FB\n",
    "fig = plt.figure()\n",
    "constante = 0.00066 # En una Macbook Pro con 2.5 GHz Intel Core i7 de dos núcleos y 16 GB 2133 MHz LPDDR3\n",
    "esperado = [2**n * constante for n in ns]\n",
    "plt.scatter(ns, tiempos, c='dodgerblue')\n",
    "plt.plot(ns, esperado, 'orange')\n",
    "# plt.plot(xs, realYs, 'forestgreen')\n",
    "\n",
    "plt.xlabel(\"Tamaño de instancia\", fontsize=16)\n",
    "plt.ylabel(\"Tiempo de ejecución (ms)\", fontsize=16)\n",
    "plt.title(\"Tiempos de ejecución para FB\", fontsize=18)\n",
    "\n",
    "real_patch = mpatches.Patch(color='dodgerblue', label='Ejecución real')\n",
    "predict_patch = mpatches.Patch(color='orange', label='Esperado')\n",
    "# real_patch = mpatches.Patch(color='forestgreen', label='Real')\n",
    "\n",
    "plt.legend(handles=[real_patch, predict_patch], loc=\"upper left\")\n",
    "plt.show()"
   ]
  },
  {
   "cell_type": "markdown",
   "metadata": {},
   "source": [
    "## Análisis de complejidad - BT\n",
    "\n",
    "### Peor caso"
   ]
  },
  {
   "cell_type": "code",
   "execution_count": 16,
   "metadata": {},
   "outputs": [
    {
     "name": "stdout",
     "output_type": "stream",
     "text": [
      "Done!\n",
      "\n",
      "✨\n",
      "  ⊂_ヽ\n",
      " 　 ＼＼ \n",
      "　　 ＼( ͡° ͜ʖ ͡°)\n",
      "　　　 >　⌒ヽ\n",
      "　　　/ 　 へ＼\n",
      "　　 /　　/　＼＼\n",
      "　　 ﾚ　ノ　　 ヽ_つ\n",
      "　　/　/\n",
      "　 /　/|\n",
      "　(　(ヽ\n",
      "　|　|、＼\n",
      "　| 丿 ＼ ⌒)\n",
      "　| | 　　) /\n",
      "ノ )　　Lﾉ\n",
      "(_／)\n"
     ]
    }
   ],
   "source": [
    "\n",
    "impl = \"BT\"\n",
    "caso = \"examples/peorCasoBT.txt\"\n",
    "startSize = 1\n",
    "endSize = 40\n",
    "reps = 10\n",
    "bt_soluciones = []\n",
    "bt_tiempos = []\n",
    "bt_ns = []\n",
    "\n",
    "for currSize in logProgress(range(startSize, endSize + 1), name=\"Ejecutando {} para instancia de tamaño\".format(impl)):\n",
    "    sol = 0\n",
    "    time = 0\n",
    "    for j in range(0, reps):\n",
    "        jamboSolution = check_output([\"./JamboTubos\", impl, caso, str(currSize)]).decode(\"utf-8\").split(\"\\n\")\n",
    "        time += float(jamboSolution[0])\n",
    "        sol += int(jamboSolution[1])\n",
    "    bt_soluciones += [sol / reps]\n",
    "    bt_tiempos += [time / reps]\n",
    "    bt_ns += [currSize]\n",
    "    \n",
    "    logTimeForInstance(time, currSize)\n",
    "\n",
    "clear_output()\n",
    "done()"
   ]
  },
  {
   "cell_type": "code",
   "execution_count": 72,
   "metadata": {},
   "outputs": [
    {
     "data": {
      "image/png": "[encoded data removed]",
      "text/plain": [
       "<Figure size 432x288 with 1 Axes>"
      ]
     },
     "metadata": {
      "needs_background": "light"
     },
     "output_type": "display_data"
    }
   ],
   "source": [
    "## Plot para complejidad de FB\n",
    "fig = plt.figure()\n",
    "constante = 0.00000025 # En una Macbook Pro con 2.5 GHz Intel Core i7 de dos núcleos y 16 GB 2133 MHz LPDDR3\n",
    "esperado = [2**n * constante for n in bt_ns]\n",
    "plt.scatter(bt_ns, bt_tiempos, c='dodgerblue')\n",
    "plt.plot(bt_ns, esperado, 'orange')\n",
    "# plt.plot(xs, realYs, 'forestgreen')\n",
    "\n",
    "plt.xlabel(\"Tamaño de instancia\", fontsize=16)\n",
    "plt.ylabel(\"Tiempo de ejecución (ms)\", fontsize=16)\n",
    "plt.title(\"Tiempos de ejecución para BT\", fontsize=18)\n",
    "\n",
    "axes = plt.gca()\n",
    "axes.set_ylim([0,750000])\n",
    "\n",
    "real_patch = mpatches.Patch(color='dodgerblue', label='Ejecución real')\n",
    "predict_patch = mpatches.Patch(color='orange', label='Esperado')\n",
    "# real_patch = mpatches.Patch(color='forestgreen', label='Real')\n",
    "\n",
    "plt.legend(handles=[real_patch, predict_patch], loc=\"upper left\")\n",
    "plt.show()"
   ]
  },
  {
   "cell_type": "markdown",
   "metadata": {},
   "source": [
    "### Caso que favorece a BT (ie: puede podar bien)"
   ]
  },
  {
   "cell_type": "code",
   "execution_count": 81,
   "metadata": {},
   "outputs": [
    {
     "name": "stdout",
     "output_type": "stream",
     "text": [
      "Done!\n",
      "\n",
      "✨\n",
      "  ⊂_ヽ\n",
      " 　 ＼＼ \n",
      "　　 ＼( ͡° ͜ʖ ͡°)\n",
      "　　　 >　⌒ヽ\n",
      "　　　/ 　 へ＼\n",
      "　　 /　　/　＼＼\n",
      "　　 ﾚ　ノ　　 ヽ_つ\n",
      "　　/　/\n",
      "　 /　/|\n",
      "　(　(ヽ\n",
      "　|　|、＼\n",
      "　| 丿 ＼ ⌒)\n",
      "　| | 　　) /\n",
      "ノ )　　Lﾉ\n",
      "(_／)\n"
     ]
    }
   ],
   "source": [
    "impl = \"BT\"\n",
    "caso = \"examples/ejemploLargoInnecesariamente.txt\"\n",
    "startSize = 1\n",
    "endSize = 40\n",
    "reps = 10\n",
    "bt2_soluciones = []\n",
    "bt2_tiempos = []\n",
    "bt2_ns = []\n",
    "\n",
    "for currSize in logProgress(range(startSize, endSize + 1), name=\"Ejecutando {} para instancia de tamaño\".format(impl)):\n",
    "    sol = 0\n",
    "    time = 0\n",
    "    for j in range(0, reps):\n",
    "        jamboSolution = check_output([\"./JamboTubos\", impl, caso, str(currSize)]).decode(\"utf-8\").split(\"\\n\")\n",
    "        time += float(jamboSolution[0])\n",
    "        sol += int(jamboSolution[1])\n",
    "    bt2_soluciones += [sol / reps]\n",
    "    bt2_tiempos += [time / reps]\n",
    "    bt2_ns += [currSize]\n",
    "    \n",
    "    logTimeForInstance(time, currSize)\n",
    "\n",
    "clear_output()\n",
    "done()"
   ]
  },
  {
   "cell_type": "code",
   "execution_count": 103,
   "metadata": {},
   "outputs": [
    {
     "data": {
      "image/png": "[encoded data removed]",
      "text/plain": [
       "<Figure size 432x288 with 1 Axes>"
      ]
     },
     "metadata": {
      "needs_background": "light"
     },
     "output_type": "display_data"
    }
   ],
   "source": [
    "# Plot para complejidad de FB\n",
    "fig = plt.figure()\n",
    "# constante = 0.00000025 # En una Macbook Pro con 2.5 GHz Intel Core i7 de dos núcleos y 16 GB 2133 MHz LPDDR3\n",
    "esperado = [2**n * constante for n in bt_ns]\n",
    "plt.scatter(range(1,35), bt_tiempos[:34], c='dodgerblue')\n",
    "# plt.plot(range(1,41), esperado, 'orange')\n",
    "plt.scatter(range(1,35), bt2_tiempos[:34], c='orange')\n",
    "# plt.plot(xs, realYs, 'forestgreen')\n",
    "\n",
    "plt.xlabel(\"Tamaño de instancia\", fontsize=16)\n",
    "plt.ylabel(\"Tiempo de ejecución (ms)\", fontsize=16)\n",
    "plt.title(\"Tiempos de ejecución para BT (caso podable)\", fontsize=18)\n",
    "\n",
    "real_patch = mpatches.Patch(color='dodgerblue', label='BT - Peor Caso')\n",
    "predict_patch = mpatches.Patch(color='orange', label='BT - Podable')\n",
    "# real_patch = mpatches.Patch(color='forestgreen', label='Real')\n",
    "\n",
    "plt.legend(handles=[real_patch, predict_patch], loc=\"upper left\")\n",
    "plt.show()"
   ]
  },
  {
   "cell_type": "code",
   "execution_count": 111,
   "metadata": {},
   "outputs": [],
   "source": [
    "## Generate instances\n",
    "\n",
    "prefix = \"instanciaRandom\"\n",
    "caseAmount = 10\n",
    "n = 20\n",
    "minRand = 1\n",
    "maxRand = 1000\n",
    "\n",
    "for instanceNumber in range(0, caseAmount):\n",
    "    r = []\n",
    "    w = []\n",
    "    maxW = 0\n",
    "    for i in range(0, n):\n",
    "        r += [random.randint(minRand, maxRand + 1)]\n",
    "        w += [random.randint(minRand, maxRand + 1)]\n",
    "        maxW = max(maxW, w[-1])\n",
    "\n",
    "    content_lines = [\"{} {}\".format(n, maxW)] \n",
    "    content_lines += [\"{} {}\".format(w[i], r[i]) for i in range(0, n)] \n",
    "    f = open(\"{}{}.txt\".format(prefix, str(instanceNumber)),\"w+\")\n",
    "    f.write(\"\\n\".join(content_lines))\n",
    "    f.close()"
   ]
  },
  {
   "cell_type": "code",
   "execution_count": null,
   "metadata": {},
   "outputs": [],
   "source": [
    "impl = \"FB\"\n",
    "reps = 10\n",
    "soluciones = []\n",
    "tiempos = []\n",
    "ns = []\n",
    "    \n",
    "for instanceNumber in logProgress(range(0, caseAmount), name=\"Ejecutando instancia\"):\n",
    "    caso = \"{}{}.txt\".format(prefix, str(instanceNumber))\n",
    "\n",
    "    sol = 0\n",
    "    time = 0\n",
    "    for j in range(0, reps):\n",
    "        jamboSolution = check_output([\"./JamboTubos\", impl, caso, str(currSize)]).decode(\"utf-8\").split(\"\\n\")\n",
    "        time += float(jamboSolution[0])\n",
    "        sol += int(jamboSolution[1])\n",
    "    soluciones += [sol / reps]\n",
    "    tiempos += [time / reps]\n",
    "    ns += [\"instancia{}\".format(instanceNumber)]\n",
    "\n",
    "    logTimeForInstance(time, currSize)\n",
    "\n",
    "clear_output()\n",
    "done()"
   ]
  }
 ],
 "metadata": {
  "kernelspec": {
   "display_name": "Python 3",
   "language": "python",
   "name": "python3"
  },
  "language_info": {
   "codemirror_mode": {
    "name": "ipython",
    "version": 3
   },
   "file_extension": ".py",
   "mimetype": "text/x-python",
   "name": "python",
   "nbconvert_exporter": "python",
   "pygments_lexer": "ipython3",
   "version": "3.7.6"
  }
 },
 "nbformat": 4,
 "nbformat_minor": 2
}
